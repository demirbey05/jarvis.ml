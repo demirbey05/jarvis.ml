{
 "cells": [
  {
   "cell_type": "markdown",
   "metadata": {},
   "source": [
    "# Gaussian Imputation\n",
    "\n",
    "Imputation is completing missing data points. In this experiment we are using conditional gauss posterior to predict missing values. Assume that our dataset has N sample with d features. Each sample is sampled from d-dimensional gaussian. For each sample we form conditional probability of missing value prior to visible values. \n",
    "\n",
    "The conditional probability of a missing value prior to visible values is given by:\n",
    "\n",
    "$$\n",
    "p(y_{\\text{missed}} \\mid y_{\\text{visible}}) = \\mathcal{N}(y_{\\text{missed}} \\mid \\boldsymbol{\\mu}_{\\text{missed} \\mid \\text{visible}}, \\boldsymbol{\\Sigma}_{\\text{missed} \\mid \\text{visible}})\n",
    "$$\n",
    "\n",
    "Where:\n",
    "1. **Conditional Mean:**\n",
    "   $$\n",
    "   \\boldsymbol{\\mu}_{\\text{missed} \\mid \\text{visible}} = \\boldsymbol{\\mu}_{\\text{missed}} + \\boldsymbol{\\Sigma}_{\\text{missed}, \\text{visible}} \\boldsymbol{\\Sigma}_{\\text{visible}, \\text{visible}}^{-1} (y_{\\text{visible}} - \\boldsymbol{\\mu}_{\\text{visible}})\n",
    "   $$\n",
    "\n",
    "2. **Conditional Covariance:**\n",
    "   $$\n",
    "   \\boldsymbol{\\Sigma}_{\\text{missed} \\mid \\text{visible}} = \\boldsymbol{\\Sigma}_{\\text{missed}, \\text{missed}} - \\boldsymbol{\\Sigma}_{\\text{missed}, \\text{visible}} \\boldsymbol{\\Sigma}_{\\text{visible}, \\text{visible}}^{-1} \\boldsymbol{\\Sigma}_{\\text{visible}, \\text{missed}}\n",
    "   $$"
   ]
  },
  {
   "cell_type": "code",
   "execution_count": 1,
   "metadata": {},
   "outputs": [],
   "source": [
    "import numpy as np\n",
    "import matplotlib.pyplot as plt\n",
    "from scipy.stats import t, laplace, norm\n",
    "import seaborn as sns\n",
    "from sklearn.datasets import make_spd_matrix\n",
    "from gauss import gauss_sample,gauss_condition\n"
   ]
  },
  {
   "cell_type": "code",
   "execution_count": 17,
   "metadata": {},
   "outputs": [],
   "source": [
    "# Generate data and make some part of it nan\n",
    "\n",
    "d = 10 # dimension\n",
    "\n",
    "# Generate data with random means and covariance matrix\n",
    "mean = np.random.normal(size=(d,))\n",
    "cov = make_spd_matrix(d)\n",
    "x_true = gauss_sample(mean, cov, d)\n",
    "\n",
    "# Make some part of the data nan\n",
    "x_missed = x_true.copy()\n",
    "nan_ratio = 0.5\n",
    "nan_mask = np.random.rand(*x_missed.shape) < nan_ratio\n",
    "x_missed[nan_mask] = np.nan\n"
   ]
  },
  {
   "cell_type": "code",
   "execution_count": 18,
   "metadata": {},
   "outputs": [
    {
     "data": {
      "text/plain": [
       "array([[0],\n",
       "       [1],\n",
       "       [6],\n",
       "       [7],\n",
       "       [8]])"
      ]
     },
     "execution_count": 18,
     "metadata": {},
     "output_type": "execute_result"
    }
   ],
   "source": [
    "hidden_nodes = np.argwhere(np.isnan(x_missed[0, :]))\n",
    "hidden_nodes"
   ]
  },
  {
   "cell_type": "code",
   "execution_count": 19,
   "metadata": {},
   "outputs": [
    {
     "name": "stderr",
     "output_type": "stream",
     "text": [
      "/tmp/ipykernel_65780/2935907666.py:9: DeprecationWarning: Conversion of an array with ndim > 0 to a scalar is deprecated, and will error in future. Ensure you extract a single element from your array before performing this operation. (Deprecated NumPy 1.25.)\n",
      "  visible_values[tc] = x_observed[i, h]\n"
     ]
    }
   ],
   "source": [
    "def gauss_impute(mu,sigma,x_observed):\n",
    "    n_data, _ = x_observed.shape\n",
    "    x_imputed = np.copy(x_observed)\n",
    "    for i in range(n_data):\n",
    "        hidden_nodes = np.argwhere(np.isnan(x_observed[i, :]))\n",
    "        visible_nodes = np.argwhere(~np.isnan(x_observed[i, :]))\n",
    "        visible_values = np.zeros(len(visible_nodes))\n",
    "        for tc, h in enumerate(visible_nodes):\n",
    "            visible_values[tc] = x_observed[i, h]\n",
    "        v = visible_nodes.reshape(len(visible_nodes))\n",
    "        j = np.array(range(d))\n",
    "        h = np.setdiff1d(j, v)\n",
    "        mu_impute,sigma_impute = gauss_condition(mu,sigma,hidden_nodes,visible_nodes,visible_values)\n",
    "\n",
    "        # Fill missed values with mu\n",
    "        for rr,h in enumerate(hidden_nodes):\n",
    "            x_imputed[i,h] = mu_impute[rr]\n",
    "    \n",
    "    return x_imputed\n",
    "    \n",
    "x_imputed = gauss_impute(mean, cov, x_missed)\n",
    "\n",
    "\n"
   ]
  },
  {
   "cell_type": "code",
   "execution_count": 20,
   "metadata": {},
   "outputs": [],
   "source": [
    "# Captured from https://matplotlib.org/stable/gallery/specialty_plots/hinton_demo.html\n",
    "\n",
    "import matplotlib.pyplot as plt\n",
    "import numpy as np\n",
    "\n",
    "\n",
    "def hinton(matrix, max_weight=None, ax=None):\n",
    "    \"\"\"Draw Hinton diagram for visualizing a weight matrix.\"\"\"\n",
    "    ax = ax if ax is not None else plt.gca()\n",
    "\n",
    "    if not max_weight:\n",
    "        max_weight = 2 ** np.ceil(np.log2(np.abs(matrix).max()))\n",
    "\n",
    "    ax.patch.set_facecolor('gray')\n",
    "    ax.set_aspect('equal', 'box')\n",
    "    ax.xaxis.set_major_locator(plt.NullLocator())\n",
    "    ax.yaxis.set_major_locator(plt.NullLocator())\n",
    "\n",
    "    for (x, y), w in np.ndenumerate(matrix):\n",
    "        color = 'white' if w > 0 else 'black'\n",
    "        size = np.sqrt(abs(w) / max_weight)\n",
    "        rect = plt.Rectangle([x - size / 2, y - size / 2], size, size,\n",
    "                             facecolor=color, edgecolor=color)\n",
    "        ax.add_patch(rect)\n",
    "\n",
    "    ax.autoscale_view()\n",
    "    ax.invert_yaxis()"
   ]
  },
  {
   "cell_type": "code",
   "execution_count": 21,
   "metadata": {},
   "outputs": [
    {
     "data": {
      "image/png": "[encoded data removed]",
      "text/plain": [
       "<Figure size 640x480 with 1 Axes>"
      ]
     },
     "metadata": {},
     "output_type": "display_data"
    }
   ],
   "source": [
    "hinton(x_imputed)"
   ]
  },
  {
   "cell_type": "code",
   "execution_count": 22,
   "metadata": {},
   "outputs": [
    {
     "data": {
      "image/png": "[encoded data removed]",
      "text/plain": [
       "<Figure size 640x480 with 1 Axes>"
      ]
     },
     "metadata": {},
     "output_type": "display_data"
    }
   ],
   "source": [
    "hinton(x_true)"
   ]
  },
  {
   "cell_type": "code",
   "execution_count": null,
   "metadata": {},
   "outputs": [],
   "source": []
  }
 ],
 "metadata": {
  "kernelspec": {
   "display_name": "base",
   "language": "python",
   "name": "python3"
  },
  "language_info": {
   "codemirror_mode": {
    "name": "ipython",
    "version": 3
   },
   "file_extension": ".py",
   "mimetype": "text/x-python",
   "name": "python",
   "nbconvert_exporter": "python",
   "pygments_lexer": "ipython3",
   "version": "3.12.7"
  }
 },
 "nbformat": 4,
 "nbformat_minor": 2
}
